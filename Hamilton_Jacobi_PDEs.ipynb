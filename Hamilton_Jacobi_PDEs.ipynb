{
  "nbformat": 4,
  "nbformat_minor": 0,
  "metadata": {
    "colab": {
      "provenance": [],
      "authorship_tag": "ABX9TyNFLujYPC7p13fXHjID7obL",
      "include_colab_link": true
    },
    "kernelspec": {
      "name": "python3",
      "display_name": "Python 3"
    },
    "language_info": {
      "name": "python"
    }
  },
  "cells": [
    {
      "cell_type": "markdown",
      "metadata": {
        "id": "view-in-github",
        "colab_type": "text"
      },
      "source": [
        "<a href=\"https://colab.research.google.com/github/k-toshiro/OptimizeLab/blob/main/Hamilton_Jacobi_PDEs.ipynb\" target=\"_parent\"><img src=\"https://colab.research.google.com/assets/colab-badge.svg\" alt=\"Open In Colab\"/></a>"
      ]
    },
    {
      "cell_type": "code",
      "source": [
        "import numpy as np\n",
        "import matplotlib.pyplot as plt"
      ],
      "metadata": {
        "id": "m0mLe3fIcO02"
      },
      "execution_count": 1,
      "outputs": []
    },
    {
      "cell_type": "code",
      "execution_count": null,
      "metadata": {
        "id": "b8U-rVJWbUgG"
      },
      "outputs": [],
      "source": [
        "#lambda*x^3 (for x in (R>0))\n",
        "def prox(lam,x):\n",
        "  return -1+np.sqrt(1+12*lam*max(0,x))/(6*lam)"
      ]
    },
    {
      "cell_type": "code",
      "source": [
        "\"\"\"\n",
        "def timestep(t_k,g_k,g_km1,tau,T,theta,delta,etap,etam):\n",
        "  if np.linalg.norm(g_k, ord=2)<theta*np.linalg.norm(g_km1, ord=2)+delta:\n",
        "    return min(etap*t_k,T)\n",
        "  else:\n",
        "    return max(etam*t_k,tau)\n",
        "\"\"\""
      ],
      "metadata": {
        "id": "RBqoJgRKcNom"
      },
      "execution_count": null,
      "outputs": []
    },
    {
      "cell_type": "code",
      "source": [
        "#一次元\n",
        "def timestep(t_k,g_k,g_km1,tau,T,theta,delta,etap,etam):\n",
        "  if abs(g_k)<theta*abs(g_km1)+delta:\n",
        "    return min(etap*t_k,T)\n",
        "  else:\n",
        "    return max(etam*t_k,tau)"
      ],
      "metadata": {
        "id": "HhKL9As9VKVb"
      },
      "execution_count": null,
      "outputs": []
    },
    {
      "cell_type": "code",
      "source": [
        "#パラメータの設定\n",
        "x_k=[]\n",
        "x_1=150\n",
        "x_k.append(x_1)#x=10からスタート\n",
        "prx_k=[]\n",
        "g_k=[]\n",
        "g_k.append(5) #g_0が定義できないので仕方なく入れている\n",
        "t_ini=0.8\n",
        "t_k=[]\n",
        "t_k.append(t_ini)\n",
        "#etap,etamはηについての仮定\n",
        "etap=1.2\n",
        "etam=0.8\n",
        "theta=0.5\n",
        "delta=0.8\n",
        "alp=1\n",
        "#step tについて\n",
        "tau=0.5\n",
        "T=3"
      ],
      "metadata": {
        "id": "taryq31xOwUy"
      },
      "execution_count": null,
      "outputs": []
    },
    {
      "cell_type": "code",
      "source": [
        "def MAD(x_1,alp,tau,t_ini,T):\n",
        "  for k in range(100):\n",
        "    prx_k_=prox(10,x_k[k])\n",
        "    prx_k.append(prx_k_)\n",
        "    g_k_=(x_k[k]-prx_k[k])/t_k[k]\n",
        "    g_k.append(g_k_)\n",
        "    x_kp1=x_k[k]-alp*t_k[k]*g_k_\n",
        "    x_k.append(x_kp1)\n",
        "    t_kp1=timestep(t_k[k],g_k[k+1],g_k[k],tau,T,theta,delta,etap,etam)\n",
        "    t_k.append(t_kp1)\n",
        "  return x_k"
      ],
      "metadata": {
        "id": "owcaZgpJLRLH"
      },
      "execution_count": null,
      "outputs": []
    },
    {
      "cell_type": "code",
      "source": [
        "MAD(x_1,alp,tau,t_ini,T)"
      ],
      "metadata": {
        "colab": {
          "base_uri": "https://localhost:8080/"
        },
        "id": "wBje-r8ES9Q3",
        "outputId": "c0ef020c-5a1e-453e-a060-0230520c5e51"
      },
      "execution_count": null,
      "outputs": [
        {
          "output_type": "execute_result",
          "data": {
            "text/plain": [
              "[150,\n",
              " 1.2361300896365037,\n",
              " -0.7963284160738309,\n",
              " -0.9833333333333333,\n",
              " -0.9833333333333333,\n",
              " -0.9833333333333333,\n",
              " -0.9833333333333333,\n",
              " -0.9833333333333333,\n",
              " -0.9833333333333333,\n",
              " -0.9833333333333333,\n",
              " -0.9833333333333333,\n",
              " -0.9833333333333333,\n",
              " -0.9833333333333333,\n",
              " -0.9833333333333333,\n",
              " -0.9833333333333333,\n",
              " -0.9833333333333333,\n",
              " -0.9833333333333333,\n",
              " -0.9833333333333333,\n",
              " -0.9833333333333333,\n",
              " -0.9833333333333333,\n",
              " -0.9833333333333333,\n",
              " -0.9833333333333333,\n",
              " -0.9833333333333333,\n",
              " -0.9833333333333333,\n",
              " -0.9833333333333333,\n",
              " -0.9833333333333333,\n",
              " -0.9833333333333333,\n",
              " -0.9833333333333333,\n",
              " -0.9833333333333333,\n",
              " -0.9833333333333333,\n",
              " -0.9833333333333333,\n",
              " -0.9833333333333333,\n",
              " -0.9833333333333333,\n",
              " -0.9833333333333333,\n",
              " -0.9833333333333333,\n",
              " -0.9833333333333333,\n",
              " -0.9833333333333333,\n",
              " -0.9833333333333333,\n",
              " -0.9833333333333333,\n",
              " -0.9833333333333333,\n",
              " -0.9833333333333333,\n",
              " -0.9833333333333333,\n",
              " -0.9833333333333333,\n",
              " -0.9833333333333333,\n",
              " -0.9833333333333333,\n",
              " -0.9833333333333333,\n",
              " -0.9833333333333333,\n",
              " -0.9833333333333333,\n",
              " -0.9833333333333333,\n",
              " -0.9833333333333333,\n",
              " -0.9833333333333333,\n",
              " -0.9833333333333333,\n",
              " -0.9833333333333333,\n",
              " -0.9833333333333333,\n",
              " -0.9833333333333333,\n",
              " -0.9833333333333333,\n",
              " -0.9833333333333333,\n",
              " -0.9833333333333333,\n",
              " -0.9833333333333333,\n",
              " -0.9833333333333333,\n",
              " -0.9833333333333333,\n",
              " -0.9833333333333333,\n",
              " -0.9833333333333333,\n",
              " -0.9833333333333333,\n",
              " -0.9833333333333333,\n",
              " -0.9833333333333333,\n",
              " -0.9833333333333333,\n",
              " -0.9833333333333333,\n",
              " -0.9833333333333333,\n",
              " -0.9833333333333333,\n",
              " -0.9833333333333333,\n",
              " -0.9833333333333333,\n",
              " -0.9833333333333333,\n",
              " -0.9833333333333333,\n",
              " -0.9833333333333333,\n",
              " -0.9833333333333333,\n",
              " -0.9833333333333333,\n",
              " -0.9833333333333333,\n",
              " -0.9833333333333333,\n",
              " -0.9833333333333333,\n",
              " -0.9833333333333333,\n",
              " -0.9833333333333333,\n",
              " -0.9833333333333333,\n",
              " -0.9833333333333333,\n",
              " -0.9833333333333333,\n",
              " -0.9833333333333333,\n",
              " -0.9833333333333333,\n",
              " -0.9833333333333333,\n",
              " -0.9833333333333333,\n",
              " -0.9833333333333333,\n",
              " -0.9833333333333333,\n",
              " -0.9833333333333333,\n",
              " -0.9833333333333333,\n",
              " -0.9833333333333333,\n",
              " -0.9833333333333333,\n",
              " -0.9833333333333333,\n",
              " -0.9833333333333333,\n",
              " -0.9833333333333333,\n",
              " -0.9833333333333333,\n",
              " -0.9833333333333333,\n",
              " -0.9833333333333333]"
            ]
          },
          "metadata": {},
          "execution_count": 26
        }
      ]
    },
    {
      "cell_type": "code",
      "source": [
        "np.linalg.norm(g_k, ord=2)"
      ],
      "metadata": {
        "colab": {
          "base_uri": "https://localhost:8080/"
        },
        "id": "A-hzeKqNNMXh",
        "outputId": "0197599d-7bfa-4938-fcc2-fade80d2baa4"
      },
      "execution_count": null,
      "outputs": [
        {
          "output_type": "execute_result",
          "data": {
            "text/plain": [
              "5.0"
            ]
          },
          "metadata": {},
          "execution_count": 7
        }
      ]
    }
  ]
}